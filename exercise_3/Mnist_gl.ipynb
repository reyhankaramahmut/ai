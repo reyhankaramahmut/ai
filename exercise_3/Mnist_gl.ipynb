{
 "cells": [
  {
   "cell_type": "markdown",
   "id": "e6f0cff7-5791-4008-92ee-68ea51773f52",
   "metadata": {},
   "source": [
    "# Transfer learning\n",
    "\n",
    "Das Ziel des Transferlearning ist es, ein bereits trainiertes Modell auf eine andere Aufgabe zu trainieren. Die Idee dahinter ist den Teil des Netzwerks, der für die Extraktion von Merkmalen zuständig ist, zu \"recyceln\". Da dies in der Regel der teuerste Teil des Trainings ist, spart man sich dadurch eine Menge an Zeit. Das bedeutet, dass dieser Teil nicht neu trainiert werden muss, sondern die bereits trainierte Featurextraktion genauso gut für eine ähnliche Aufgabe verwendet werden kann. Aus diesem Grund sollte man ein bereits trainiertes Netzwerk nutzen, welches für eine ähnliche Aufgabe trainiert wurde. Lediglich die Klassifikationsschicht wird neu trainiert. Ziel dieses Notebooks ist es, ein Verständnis zu bekommen, was beim Transferlearning passiert.\n",
    "\n",
    "Schauen Sie sich folgendes Notebook an und versuchen Sie den groben Ablauf zu verstehen.\n",
    "Sie werden die meisten Befehle die Sie benötigen darin finden.\n",
    "https://www.tensorflow.org/tutorials/images/transfer_learning\n",
    "\n",
    "Für diese Aufgabe wollen wir das in der letzten Aufgabe trainierte Convolutional Neural Network, welches auf dem Mnist Datensatz trainiert wurde, auf eine andere Aufgabe trainieren. Die Aufgabe des Netzwerks soll es sein, zu entscheiden, ob eine Zahl größer oder kleiner als eine fixe Zahl ist.\n",
    "\n",
    "Gehen Sie dazu wie folgt vor:\n",
    "\n",
    "    * Laden Sie ihr Modell aus der vorherigen Aufgabe mit tf.keras.models.load_model(\"Name des Modells\") Falls Sie ihr Modell nicht gespeichert hatten, können Sie dies mit model.save(\"Name des Modells\"), nachdem Sie erneut trainiert haben, tun.\n",
    "      \n",
    "    * Bereiten Sie den Mnist-Datensatz wie in der vorherigen Aufgabe vor, und verändern Sie die Labels so, dass nur zwei Klassen existieren, >= 5 und <= 5\n",
    "      \n",
    "    * Laden Sie das zuvor gespeicherte Modell und entfernen Sie die letzte Schicht ( model.pop() )\n",
    "    \n",
    "    * Setzen Sie die Layer auf nicht trainierbar\n",
    "    \n",
    "    * Fügen Sie eine neue Schicht hinzu\n",
    "    \n",
    "    * Trainieren Sie das Netzwerk mit den transformierten Labels\n",
    "    \n",
    "    * Plotten Sie wieder die Trainingskurven und erstellen sie eine confusion Matrix"
   ]
  },
  {
   "cell_type": "code",
   "execution_count": null,
   "id": "5e027689",
   "metadata": {},
   "outputs": [],
   "source": [
    "#@author Reyhan Karamahmut"
   ]
  },
  {
   "cell_type": "code",
   "execution_count": 2,
   "id": "099b0031-b03b-48e7-96aa-97f0c491a06d",
   "metadata": {
    "ExecuteTime": {
     "end_time": "2023-06-28T17:19:18.917432Z",
     "start_time": "2023-06-28T17:19:06.562539Z"
    }
   },
   "outputs": [],
   "source": [
    "import matplotlib.pyplot as plt\n",
    "import numpy as np\n",
    "import os\n",
    "import tensorflow as tf\n",
    "from keras.optimizers import Adam\n",
    "from sklearn.metrics import confusion_matrix\n",
    "\n",
    "from keras.datasets import mnist\n",
    "import keras\n"
   ]
  },
  {
   "cell_type": "code",
   "execution_count": 3,
   "id": "28c85969-93c8-4ec0-aeaf-91f4c8eb2582",
   "metadata": {
    "ExecuteTime": {
     "end_time": "2023-06-28T17:19:20.039327Z",
     "start_time": "2023-06-28T17:19:18.917432Z"
    }
   },
   "outputs": [
    {
     "name": "stdout",
     "output_type": "stream",
     "text": [
      "[[0. 0. 0. ... 0. 0. 0.]\n",
      " [1. 0. 0. ... 0. 0. 0.]\n",
      " [0. 0. 0. ... 0. 0. 0.]\n",
      " ...\n",
      " [0. 0. 0. ... 0. 1. 0.]\n",
      " [0. 0. 0. ... 0. 0. 0.]\n",
      " [0. 0. 0. ... 0. 1. 0.]]\n"
     ]
    }
   ],
   "source": [
    "\n",
    "# Vorbereiten von Mnist\n",
    "\n",
    "(x_train, y_train), (x_test, y_test) = mnist.load_data()\n",
    "\n",
    "# separate x_train in X_train and X_val, same for y_train\n",
    "X_train=x_train[0:50000] / 255 #divide by 255 so that they are in range 0 to 1\n",
    "Y_train=keras.utils.to_categorical(y_train[0:50000],10) # one-hot encoding\n",
    "\n",
    "X_val=x_train[50000:60000] / 255\n",
    "Y_val=keras.utils.to_categorical(y_train[50000:60000],10)\n",
    "\n",
    "X_test=x_test / 255\n",
    "Y_test=keras.utils.to_categorical(y_test,10)\n",
    "\n",
    "del x_train, y_train, x_test, y_test\n",
    "\n",
    "print(Y_train)\n",
    "\n"
   ]
  },
  {
   "cell_type": "code",
   "execution_count": 4,
   "id": "6e3338d3-70b7-4b77-805b-cd390ca30694",
   "metadata": {
    "ExecuteTime": {
     "end_time": "2023-06-28T17:19:22.708185Z",
     "start_time": "2023-06-28T17:19:20.023698Z"
    }
   },
   "outputs": [
    {
     "name": "stdout",
     "output_type": "stream",
     "text": [
      "(50000, 28, 28)\n",
      "original shape    : (50000, 10)\n",
      "transformed shape : (50000, 2)\n"
     ]
    }
   ],
   "source": [
    "\n",
    "def relable(labels,threshold=5):\n",
    "    \n",
    "    relabled = []\n",
    "    \n",
    "    # Hier die transformation der Labels vornehmen\n",
    "    # Zahl >= Threshold => [0,1] else: [1,0]\n",
    "    for i in range(len(labels)):\n",
    "        for j in range(len((labels[i]))):\n",
    "            if labels[i][j] == 1:\n",
    "                if j < threshold:\n",
    "                    relabled.append([1,0])\n",
    "                else: relabled.append([0,1])\n",
    "\n",
    "\n",
    "\n",
    "    \n",
    "    return np.array(relabled,dtype=np.float32)\n",
    "\n",
    "Y_train_relabled = relable(Y_train)\n",
    "Y_test_relabled = relable(Y_test)\n",
    "print(X_train.shape)\n",
    "print(\"original shape    :\",Y_train.shape)\n",
    "print(\"transformed shape :\",Y_train_relabled.shape)\n"
   ]
  },
  {
   "cell_type": "code",
   "execution_count": 5,
   "id": "5cda1cfa-672f-4dff-93f8-c3d67c76957b",
   "metadata": {
    "ExecuteTime": {
     "end_time": "2023-06-28T17:19:23.459224Z",
     "start_time": "2023-06-28T17:19:22.708185Z"
    }
   },
   "outputs": [
    {
     "name": "stdout",
     "output_type": "stream",
     "text": [
      "Model: \"sequential_8\"\n",
      "_________________________________________________________________\n",
      " Layer (type)                Output Shape              Param #   \n",
      "=================================================================\n",
      " conv2d_9 (Conv2D)           (None, 26, 26, 32)        320       \n",
      "                                                                 \n",
      " activation_34 (Activation)  (None, 26, 26, 32)        0         \n",
      "                                                                 \n",
      " max_pooling2d_8 (MaxPooling  (None, 13, 13, 32)       0         \n",
      " 2D)                                                             \n",
      "                                                                 \n",
      " activation_35 (Activation)  (None, 13, 13, 32)        0         \n",
      "                                                                 \n",
      " conv2d_10 (Conv2D)          (None, 11, 11, 64)        18496     \n",
      "                                                                 \n",
      " activation_36 (Activation)  (None, 11, 11, 64)        0         \n",
      "                                                                 \n",
      " max_pooling2d_9 (MaxPooling  (None, 5, 5, 64)         0         \n",
      " 2D)                                                             \n",
      "                                                                 \n",
      " flatten_4 (Flatten)         (None, 1600)              0         \n",
      "                                                                 \n",
      " activation_37 (Activation)  (None, 1600)              0         \n",
      "                                                                 \n",
      " dense_19 (Dense)            (None, 10)                16010     \n",
      "                                                                 \n",
      "=================================================================\n",
      "Total params: 34,826\n",
      "Trainable params: 34,826\n",
      "Non-trainable params: 0\n",
      "_________________________________________________________________\n"
     ]
    }
   ],
   "source": [
    "# Laden des Modells Modellnamen anpassen!\n",
    "base_model = tf.keras.models.load_model(\"../exercise_2/CNN\")\n",
    "#Hier die letzte Schicht entfernen\n",
    "base_model.pop()\n",
    "base_model.summary()"
   ]
  },
  {
   "cell_type": "code",
   "execution_count": 6,
   "id": "371cb421-f1f2-47b6-90d6-4cf99b451618",
   "metadata": {
    "ExecuteTime": {
     "end_time": "2023-06-28T17:19:23.537761Z",
     "start_time": "2023-06-28T17:19:23.477513Z"
    }
   },
   "outputs": [],
   "source": [
    "\n",
    "# Hier Modell einfrieren\n",
    "for layer in base_model.layers:\n",
    "    layer.trainable =False\n",
    "\n",
    "# Basismodell als Ausgangspunkt nehmen\n",
    "inputs = tf.keras.Input(shape=(28, 28,1))\n",
    "x = base_model(inputs, training=False)\n",
    "\n",
    "# Hier ein Dense-layer hinzufügen sodass zwei Klassen vorhergesagt werden!\n",
    "last_layer = tf.keras.layers.Dense(2)(x)\n",
    "output     = tf.keras.layers.Activation('softmax')(last_layer)\n",
    "\n",
    "# Modell Zusammenfügen\n",
    "model = tf.keras.Model(inputs, output)\n",
    "\n"
   ]
  },
  {
   "cell_type": "code",
   "execution_count": 7,
   "id": "97ab7f72-f612-4e37-b1c5-064d7aa616a1",
   "metadata": {
    "ExecuteTime": {
     "end_time": "2023-06-28T17:19:23.601090Z",
     "start_time": "2023-06-28T17:19:23.537761Z"
    }
   },
   "outputs": [
    {
     "name": "stdout",
     "output_type": "stream",
     "text": [
      "Model: \"model\"\n",
      "_________________________________________________________________\n",
      " Layer (type)                Output Shape              Param #   \n",
      "=================================================================\n",
      " input_1 (InputLayer)        [(None, 28, 28, 1)]       0         \n",
      "                                                                 \n",
      " sequential_8 (Sequential)   (None, 10)                34826     \n",
      "                                                                 \n",
      " dense (Dense)               (None, 2)                 22        \n",
      "                                                                 \n",
      " activation (Activation)     (None, 2)                 0         \n",
      "                                                                 \n",
      "=================================================================\n",
      "Total params: 34,848\n",
      "Trainable params: 22\n",
      "Non-trainable params: 34,826\n",
      "_________________________________________________________________\n"
     ]
    }
   ],
   "source": [
    "learning_rate = 1e-4\n",
    "# Modell Kompilieren, Kostenfunktion categorical_crossentropy, Optimizer Adam mit der learningrate 1e-4\n",
    "model.compile(loss='categorical_crossentropy',\n",
    "              optimizer=tf.keras.optimizers.Adam(learning_rate),\n",
    "              metrics=['accuracy']\n",
    "              )\n",
    "model.summary()"
   ]
  },
  {
   "cell_type": "code",
   "execution_count": 8,
   "id": "7cd190a8-57aa-4daa-bf69-b784f3e4d42f",
   "metadata": {
    "ExecuteTime": {
     "end_time": "2023-06-28T17:19:26.778941Z",
     "start_time": "2023-06-28T17:19:23.585174Z"
    }
   },
   "outputs": [
    {
     "name": "stdout",
     "output_type": "stream",
     "text": [
      "313/313 [==============================] - 3s 8ms/step - loss: 7.8176 - accuracy: 0.3519\n"
     ]
    }
   ],
   "source": [
    "loss0, accuracy0 = model.evaluate(x = X_test,y = Y_test_relabled)"
   ]
  },
  {
   "cell_type": "code",
   "execution_count": 9,
   "id": "147cbb77-6c15-4132-96ed-599f4d0567a1",
   "metadata": {
    "ExecuteTime": {
     "end_time": "2023-06-28T17:19:49.337032Z",
     "start_time": "2023-06-28T17:19:26.715501Z"
    }
   },
   "outputs": [
    {
     "name": "stdout",
     "output_type": "stream",
     "text": [
      "Epoch 1/2\n",
      "391/391 - 10s - loss: 7.0680 - accuracy: 0.3685 - val_loss: 6.3991 - val_accuracy: 0.3788 - 10s/epoch - 26ms/step\n",
      "Epoch 2/2\n",
      "391/391 - 11s - loss: 5.5260 - accuracy: 0.4006 - val_loss: 4.8978 - val_accuracy: 0.4108 - 11s/epoch - 29ms/step\n"
     ]
    }
   ],
   "source": [
    "epochs = 2\n",
    "# Hier das Netzwerk trainieren!\n",
    "history=model.fit(X_train, Y_train_relabled,\n",
    "                  batch_size=128,\n",
    "                  epochs=epochs,\n",
    "                  verbose=2,\n",
    "                  validation_data=(X_val, relable(Y_val,5))\n",
    "                  )\n"
   ]
  },
  {
   "cell_type": "code",
   "execution_count": 10,
   "id": "ba3a3c41-4939-4e22-bca2-55f8283d6a03",
   "metadata": {
    "ExecuteTime": {
     "end_time": "2023-06-28T17:19:50.261708Z",
     "start_time": "2023-06-28T17:19:49.337939Z"
    }
   },
   "outputs": [
    {
     "data": {
      "text/plain": [
       "<matplotlib.legend.Legend at 0x1882f589d90>"
      ]
     },
     "execution_count": 10,
     "metadata": {},
     "output_type": "execute_result"
    },
    {
     "data": {
      "image/png": "[encoded data removed]",
      "text/plain": [
       "<Figure size 1200x400 with 1 Axes>"
      ]
     },
     "metadata": {},
     "output_type": "display_data"
    },
    {
     "data": {
      "image/png": "[encoded data removed]",
      "text/plain": [
       "<Figure size 1200x400 with 1 Axes>"
      ]
     },
     "metadata": {},
     "output_type": "display_data"
    }
   ],
   "source": [
    "\n",
    "# Plotten Trainingskurve wie in der Aufgabe zuvor\n",
    "#Accuracy Graph\n",
    "plt.figure(figsize=(12,4))\n",
    "plt.plot(history.history['accuracy'],linestyle='-.')\n",
    "plt.plot(history.history['val_accuracy'])\n",
    "plt.title('model accuracy')\n",
    "plt.ylabel('accuracy')\n",
    "plt.xlabel('epoch')\n",
    "plt.legend(['train', 'valid'], loc='lower right')\n",
    "\n",
    "\n",
    "#Loss Graph\n",
    "plt.figure(figsize=(12,4))\n",
    "plt.plot(history.history['loss'],linestyle='-.')\n",
    "plt.plot(history.history['val_loss'])\n",
    "plt.title('model loss')\n",
    "plt.ylabel('loss')\n",
    "plt.xlabel('epoch')\n",
    "plt.legend(['train', 'valid'], loc='upper right')\n"
   ]
  },
  {
   "cell_type": "code",
   "execution_count": 11,
   "id": "e2d84b7c-984b-4de9-aa9c-6f13eca580d5",
   "metadata": {
    "ExecuteTime": {
     "end_time": "2023-06-28T17:19:53.192984Z",
     "start_time": "2023-06-28T17:19:50.276346Z"
    }
   },
   "outputs": [
    {
     "name": "stdout",
     "output_type": "stream",
     "text": [
      "313/313 [==============================] - 3s 8ms/step\n",
      "(10000, 2)\n",
      "[[3201 1938]\n",
      " [3861 1000]]\n",
      "Acc_fc_orig_flat =  0.4201\n"
     ]
    }
   ],
   "source": [
    "# Confusion Matrix erstellen\n",
    "pred=model.predict(X_test)\n",
    "print(pred.shape)\n",
    "print(confusion_matrix(np.argmax(Y_test_relabled,axis=1),np.argmax(pred,axis=1)))\n",
    "acc_fc_orig = np.sum(np.argmax(Y_test_relabled,axis=1)==np.argmax(pred,axis=1))/len(pred)\n",
    "print(\"Acc_fc_orig_flat = \" , acc_fc_orig)"
   ]
  }
 ],
 "metadata": {
  "kernelspec": {
   "display_name": "Python 3",
   "language": "python",
   "name": "python3"
  },
  "language_info": {
   "codemirror_mode": {
    "name": "ipython",
    "version": 3
   },
   "file_extension": ".py",
   "mimetype": "text/x-python",
   "name": "python",
   "nbconvert_exporter": "python",
   "pygments_lexer": "ipython3",
   "version": "3.9.4"
  }
 },
 "nbformat": 4,
 "nbformat_minor": 5
}

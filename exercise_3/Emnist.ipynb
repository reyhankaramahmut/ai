{
 "cells": [
  {
   "cell_type": "markdown",
   "id": "1bca65b3-9679-4269-96e0-5f501b5c3f6a",
   "metadata": {},
   "source": [
    "# Transfer learning\n",
    "\n",
    "Das Ziel des Transferlearning ist es, ein bereits trainiertes Modell auf eine andere Aufgabe zu trainieren. Die Idee dahinter ist den Teil des Netzwerks, der für die Extraktion von Merkmalen zuständig ist, zu \"recyceln\". Da dies in der Regel der teuerste Teil des Trainings ist, spart man sich dadurch eine Menge an Zeit. Das bedeutet, dass dieser Teil nicht neu trainiert werden muss, sondern die bereits trainierte Featurextraktion genauso gut für eine ähnliche Aufgabe verwendet werden kann. Aus diesem Grund sollte man ein bereits trainiertes Netzwerk nutzen, welches für eine ähnliche Aufgabe trainiert wurde. Lediglich die Klassifikationsschicht wird neu trainiert. Ziel dieses Notebooks ist es, ein Verständnis zu bekommen, was beim Transferlearning passiert.\n",
    "\n",
    "Schauen Sie sich folgendes Notebook an und versuchen Sie den groben Ablauf zu verstehen.\n",
    "Sie werden die meisten Befehle die Sie benötigen darin finden.\n",
    "https://www.tensorflow.org/tutorials/images/transfer_learning\n",
    "\n",
    "Für diese Aufgabe wollen wir das in der letzten Aufgabe trainierte Convolutional Neural Network, welches auf dem Mnist Datensatz trainiert wurde, auf eine andere Aufgabe trainieren. Die Aufgabe des Netzwerks soll es sein, Hexadezimalzahlen zu erkennen.\n",
    "Hierzu verwenden wir den $\\textit{emnist}$ Datensatz. Dieser beinhaltet zusätzlich das Alphabet (große und kleine Buchstaben). Näheres dazu unter https://pypi.org/project/emnist/ \n",
    "\n",
    "Gehen Sie dazu wie folgt vor:\n",
    "\n",
    "    * Laden Sie ihr Modell aus der vorherigen Aufgabe mit tf.keras.models.load_model(\"Name des Modells\") Falls Sie ihr Modell nicht gespeichert hatten, können Sie dies mit model.save(\"Name des Modells\"), nachdem Sie erneut trainiert haben, tun.\n",
    "      \n",
    "    * Bereiten Sie den emnist-Datensatz wie in der vorherigen Aufgabe vor und sortieren Sie alle Kleinbuchstaben sowie alle Buchstaben, die nicht der Hexadezimalschreibweise angehören, aus!\n",
    "      \n",
    "    * Laden Sie das zuvor gespeicherte Modell und entfernen Sie die letzte Schicht ( model.pop() )\n",
    "    \n",
    "    * Frieren Sie das Modell ein, d.h. Sie setzen die Layer auf nicht trainierbar\n",
    "    \n",
    "    * Fügen Sie eine neue Schicht hinzu, sodass die verschiedenen Klassen (0-F) klassifiziert werden können (Wir beschränken uns hier auf die groß geschriebenen Buchstaben)\n",
    "    \n",
    "    * Trainieren Sie das Netzwerk mit den transformierten Labels\n",
    "    \n",
    "    * Plotten Sie wieder die Trainingskurven und erstellen sie eine confusion Matrix"
   ]
  },
  {
   "cell_type": "code",
   "execution_count": null,
   "id": "4b830c3d",
   "metadata": {},
   "outputs": [],
   "source": [
    "#@author Reyhan Karamahmut\n",
    "\n",
    "# Currently, there is an issue with loading the data. Please use the following workaround:\n",
    "\n",
    "# 1. Download the data from\n",
    "https://github.com/oduerr/ki/issues/2#issue-2359787187"
   ]
  },
  {
   "cell_type": "code",
   "execution_count": 43,
   "id": "099b0031-b03b-48e7-96aa-97f0c491a06d",
   "metadata": {},
   "outputs": [],
   "source": [
    "import matplotlib.pyplot as plt\n",
    "import numpy as np\n",
    "import os\n",
    "\n",
    "from tensorflow import keras\n",
    "import tensorflow as tf\n",
    "from keras.utils import to_categorical \n",
    "from sklearn.metrics import confusion_matrix \n",
    "from extra_keras_datasets import emnist\n",
    "from emnist import extract_training_samples, extract_test_samples\n",
    "\n",
    "from scipy.io import loadmat"
   ]
  },
  {
   "cell_type": "code",
   "execution_count": 44,
   "id": "a222aa8d",
   "metadata": {},
   "outputs": [],
   "source": [
    "def load_emnist_data():\n",
    "    # Pfad zur entpackten Datei\n",
    "    data_dir = \"./emnist-matlab/matlab\"\n",
    "    mat_file_path = os.path.join(data_dir, 'emnist-balanced.mat')\n",
    "    \n",
    "    # Laden der .mat-Datei\n",
    "    mat = loadmat(mat_file_path)\n",
    "    \n",
    "    # Extrahieren der Trainings- und Testdaten\n",
    "    input_train = mat['dataset']['train'][0, 0]['images'][0, 0]\n",
    "    target_train = mat['dataset']['train'][0, 0]['labels'][0, 0].flatten()\n",
    "    input_test = mat['dataset']['test'][0, 0]['images'][0, 0]\n",
    "    target_test = mat['dataset']['test'][0, 0]['labels'][0, 0].flatten()\n",
    "    \n",
    "    # Transformation der Daten\n",
    "    input_train = input_train.reshape((input_train.shape[0], 28, 28), order=\"F\")\n",
    "    input_test = input_test.reshape((input_test.shape[0], 28, 28), order=\"F\")\n",
    "    \n",
    "    return (input_train, target_train), (input_test, target_test)"
   ]
  },
  {
   "cell_type": "code",
   "execution_count": 45,
   "id": "28c85969-93c8-4ec0-aeaf-91f4c8eb2582",
   "metadata": {},
   "outputs": [
    {
     "name": "stdout",
     "output_type": "stream",
     "text": [
      "(8000, 28, 28)\n",
      "(30400, 28, 28)\n",
      "(6400, 28, 28)\n",
      "(8000,)\n",
      "(30400,)\n",
      "(6400,)\n"
     ]
    }
   ],
   "source": [
    "# Vorbereiten von Nist\n",
    "(input_train, target_train), (input_test, target_test) = load_emnist_data()\n",
    "\n",
    "# Sortieren Sie alle Ziffern aus, die unerwünscht sind!\n",
    "# Hinweis: np.where ist hierfür recht Hilfreich\n",
    "input_train = input_train[np.where(target_train <= 15)]\n",
    "target_train = target_train[np.where(target_train <= 15)]\n",
    "input_test = input_test[np.where(target_test <= 15)]\n",
    "target_test = target_test[np.where(target_test <= 15)]\n",
    " \n",
    "# Aufteilung in Trainings-, Validierungs- und Testdaten\n",
    "X_val = input_train[0:8000] / 255\n",
    "X_train = input_train[8000:] / 255\n",
    "X_test = input_test / 255\n",
    "\n",
    "Y_val = target_train[0:8000]\n",
    "Y_train = target_train[8000:]\n",
    "Y_test = target_test\n",
    "\n",
    "del input_train, target_train, input_test, target_test\n",
    "\n",
    "print(X_val.shape)\n",
    "print(X_train.shape)\n",
    "print(X_test.shape)\n",
    "print(Y_val.shape)\n",
    "print(Y_train.shape)\n",
    "print(Y_test.shape)"
   ]
  },
  {
   "cell_type": "code",
   "execution_count": 46,
   "id": "3daa9950",
   "metadata": {},
   "outputs": [
    {
     "name": "stdout",
     "output_type": "stream",
     "text": [
      "(8000, 28, 28, 1)\n",
      "(30400, 28, 28, 1)\n",
      "(6400, 28, 28, 1)\n",
      "(8000, 16)\n",
      "(30400, 16)\n",
      "(6400, 16)\n"
     ]
    }
   ],
   "source": [
    "# Normalisieren Sie das Set und bringen es in die richtige \"shape\"\n",
    "X_val = np.reshape(X_val, (X_val.shape[0],28,28,1))\n",
    "X_train = np.reshape(X_train, (X_train.shape[0],28,28,1))\n",
    "X_test = np.reshape(X_test, (X_test.shape[0],28,28,1))\n",
    "\n",
    "# Labels in One-Hot-Kodierung umwandeln\n",
    "Y_val = keras.utils.to_categorical(Y_val, 16)\n",
    "Y_train = keras.utils.to_categorical(Y_train, 16)\n",
    "Y_test = keras.utils.to_categorical(Y_test, 16)\n",
    "\n",
    "# print(X_val.shape)\n",
    "# print(X_train.shape)\n",
    "# print(X_test.shape)\n",
    "# print(Y_val.shape)\n",
    "# print(Y_train.shape)\n",
    "# print(Y_test.shape)"
   ]
  },
  {
   "cell_type": "code",
   "execution_count": 47,
   "id": "a2986b36-7340-4dd3-b659-a2663682d303",
   "metadata": {},
   "outputs": [
    {
     "data": {
      "image/png": "[encoded data removed]",
      "text/plain": [
       "<Figure size 1200x1200 with 10 Axes>"
      ]
     },
     "metadata": {},
     "output_type": "display_data"
    }
   ],
   "source": [
    "# Plotten Sie hier ein paar Ziffern!\n",
    "plt.figure(figsize=(12,12))\n",
    "for i in range(10):\n",
    "    plt.subplot(1,10,(i+1))\n",
    "    plt.imshow((X_train[i,:,:,0]),cmap=\"gray\")\n",
    "    plt.title(str(np.argmax(Y_train,axis=1)[i]))\n",
    "    plt.axis('off')\n",
    "    plt.tight_layout() "
   ]
  },
  {
   "cell_type": "code",
   "execution_count": 60,
   "id": "5cda1cfa-672f-4dff-93f8-c3d67c76957b",
   "metadata": {},
   "outputs": [],
   "source": [
    "# Laden des Modells\n",
    "base_model = tf.keras.models.load_model(\"../exercise_2/CNN\")\n",
    "\n",
    "#Hier die letzte Schicht entfernen\n",
    "base_model.pop()"
   ]
  },
  {
   "cell_type": "code",
   "execution_count": 61,
   "id": "15e83bd8",
   "metadata": {},
   "outputs": [
    {
     "name": "stdout",
     "output_type": "stream",
     "text": [
      "Model: \"sequential_1\"\n",
      "_________________________________________________________________\n",
      " Layer (type)                Output Shape              Param #   \n",
      "=================================================================\n",
      " conv2d_2 (Conv2D)           (None, 26, 26, 32)        320       \n",
      "                                                                 \n",
      " max_pooling2d_2 (MaxPoolin  (None, 13, 13, 32)        0         \n",
      " g2D)                                                            \n",
      "                                                                 \n",
      " conv2d_3 (Conv2D)           (None, 11, 11, 64)        18496     \n",
      "                                                                 \n",
      " max_pooling2d_3 (MaxPoolin  (None, 5, 5, 64)          0         \n",
      " g2D)                                                            \n",
      "                                                                 \n",
      " flatten_1 (Flatten)         (None, 1600)              0         \n",
      "                                                                 \n",
      "=================================================================\n",
      "Total params: 18816 (73.50 KB)\n",
      "Trainable params: 18816 (73.50 KB)\n",
      "Non-trainable params: 0 (0.00 Byte)\n",
      "_________________________________________________________________\n"
     ]
    }
   ],
   "source": [
    "base_model.summary()"
   ]
  },
  {
   "cell_type": "code",
   "execution_count": 50,
   "id": "371cb421-f1f2-47b6-90d6-4cf99b451618",
   "metadata": {},
   "outputs": [],
   "source": [
    "# Modell einfrieren\n",
    "for layer in base_model.layers:\n",
    "    layer.trainable =False\n",
    "\n",
    "# Basismodell als Ausgangspunkt nehmen\n",
    "inputs = tf.keras.Input(shape=(28, 28,1))\n",
    "x = base_model(inputs, training=False)\n",
    "\n",
    "# Hier einen Dense-layer und einmal Softmax hinzufügen, sodass die verschiedenen Klassen vorhergesagt werden! können!\n",
    "last_layer = tf.keras.layers.Dense(16)(x)\n",
    "output     = tf.keras.layers.Activation('softmax')(last_layer)\n",
    "\n",
    "# Modell Zusammenfügen\n",
    "model = tf.keras.Model(inputs, output)"
   ]
  },
  {
   "cell_type": "code",
   "execution_count": 57,
   "id": "97ab7f72-f612-4e37-b1c5-064d7aa616a1",
   "metadata": {},
   "outputs": [],
   "source": [
    "# Modell Kompilieren, Kostenfunktion categorical_crossentropy, Optimizer Adam mit der learningrate 1e-4\n",
    "optimizer = keras.optimizers.Adam(learning_rate=1e-4)\n",
    "model.compile(loss='categorical_crossentropy', optimizer=optimizer, metrics=['accuracy'])"
   ]
  },
  {
   "cell_type": "code",
   "execution_count": 58,
   "id": "0396719b",
   "metadata": {},
   "outputs": [
    {
     "name": "stdout",
     "output_type": "stream",
     "text": [
      "Model: \"model_2\"\n",
      "_________________________________________________________________\n",
      " Layer (type)                Output Shape              Param #   \n",
      "=================================================================\n",
      " input_3 (InputLayer)        [(None, 28, 28, 1)]       0         \n",
      "                                                                 \n",
      " sequential_1 (Sequential)   (None, 1600)              18816     \n",
      "                                                                 \n",
      " dense_2 (Dense)             (None, 16)                25616     \n",
      "                                                                 \n",
      " activation_2 (Activation)   (None, 16)                0         \n",
      "                                                                 \n",
      "=================================================================\n",
      "Total params: 44432 (173.56 KB)\n",
      "Trainable params: 25616 (100.06 KB)\n",
      "Non-trainable params: 18816 (73.50 KB)\n",
      "_________________________________________________________________\n"
     ]
    }
   ],
   "source": [
    "model.summary()"
   ]
  },
  {
   "cell_type": "code",
   "execution_count": 59,
   "id": "7cd190a8-57aa-4daa-bf69-b784f3e4d42f",
   "metadata": {},
   "outputs": [
    {
     "name": "stdout",
     "output_type": "stream",
     "text": [
      "200/200 [==============================] - 1s 5ms/step - loss: 0.2586 - accuracy: 0.9350\n"
     ]
    }
   ],
   "source": [
    "# Accuracy vor dem Transferlearning bestimmen\n",
    "loss0, accuracy0 = model.evaluate(x = X_test, y = Y_test)"
   ]
  },
  {
   "cell_type": "code",
   "execution_count": 53,
   "id": "147cbb77-6c15-4132-96ed-599f4d0567a1",
   "metadata": {},
   "outputs": [
    {
     "name": "stdout",
     "output_type": "stream",
     "text": [
      "Epoch 1/10\n"
     ]
    },
    {
     "name": "stderr",
     "output_type": "stream",
     "text": [
      "2024-06-17 11:46:21.702446: W tensorflow/tsl/framework/cpu_allocator_impl.cc:83] Allocation of 95334400 exceeds 10% of free system memory.\n"
     ]
    },
    {
     "name": "stdout",
     "output_type": "stream",
     "text": [
      "238/238 - 5s - loss: 1.7823 - accuracy: 0.5915 - val_loss: 1.0893 - val_accuracy: 0.8055 - 5s/epoch - 21ms/step\n",
      "Epoch 2/10\n",
      "238/238 - 5s - loss: 0.8530 - accuracy: 0.8338 - val_loss: 0.6866 - val_accuracy: 0.8589 - 5s/epoch - 20ms/step\n",
      "Epoch 3/10\n",
      "238/238 - 5s - loss: 0.6005 - accuracy: 0.8720 - val_loss: 0.5274 - val_accuracy: 0.8821 - 5s/epoch - 20ms/step\n",
      "Epoch 4/10\n",
      "238/238 - 5s - loss: 0.4835 - accuracy: 0.8898 - val_loss: 0.4419 - val_accuracy: 0.8959 - 5s/epoch - 21ms/step\n",
      "Epoch 5/10\n",
      "238/238 - 5s - loss: 0.4133 - accuracy: 0.9028 - val_loss: 0.3844 - val_accuracy: 0.9096 - 5s/epoch - 19ms/step\n",
      "Epoch 6/10\n",
      "238/238 - 5s - loss: 0.3652 - accuracy: 0.9133 - val_loss: 0.3438 - val_accuracy: 0.9164 - 5s/epoch - 20ms/step\n",
      "Epoch 7/10\n",
      "238/238 - 5s - loss: 0.3306 - accuracy: 0.9190 - val_loss: 0.3128 - val_accuracy: 0.9246 - 5s/epoch - 20ms/step\n",
      "Epoch 8/10\n",
      "238/238 - 5s - loss: 0.3028 - accuracy: 0.9245 - val_loss: 0.2890 - val_accuracy: 0.9296 - 5s/epoch - 19ms/step\n",
      "Epoch 9/10\n",
      "238/238 - 5s - loss: 0.2810 - accuracy: 0.9302 - val_loss: 0.2696 - val_accuracy: 0.9333 - 5s/epoch - 20ms/step\n",
      "Epoch 10/10\n",
      "238/238 - 5s - loss: 0.2632 - accuracy: 0.9346 - val_loss: 0.2526 - val_accuracy: 0.9366 - 5s/epoch - 19ms/step\n"
     ]
    }
   ],
   "source": [
    "# Hier das Netzwerk für 10 Epochen trainieren!\n",
    "epochs = 10\n",
    "history=model.fit(X_train, Y_train,\n",
    "                  batch_size=128,\n",
    "                  epochs=epochs,\n",
    "                  verbose=2,\n",
    "                  validation_data=(X_val, Y_val)\n",
    "                  )"
   ]
  },
  {
   "cell_type": "code",
   "execution_count": 54,
   "id": "ba3a3c41-4939-4e22-bca2-55f8283d6a03",
   "metadata": {},
   "outputs": [
    {
     "data": {
      "text/plain": [
       "<matplotlib.legend.Legend at 0x7d62ac621820>"
      ]
     },
     "execution_count": 54,
     "metadata": {},
     "output_type": "execute_result"
    },
    {
     "data": {
      "image/png": "[encoded data removed]",
      "text/plain": [
       "<Figure size 1200x400 with 2 Axes>"
      ]
     },
     "metadata": {},
     "output_type": "display_data"
    }
   ],
   "source": [
    "# Plotten der Trainingskurve wie in der Aufgabe zuvor\n",
    "plt.figure(figsize=(12,4))\n",
    "plt.subplot(1,2,(1))\n",
    "plt.plot(history.history['accuracy'],linestyle='-.')\n",
    "plt.plot(history.history['val_accuracy'])\n",
    "plt.title('model accuracy')\n",
    "plt.ylabel('accuracy')\n",
    "plt.xlabel('epoch')\n",
    "plt.legend(['train', 'valid'], loc='lower right')\n",
    "\n",
    "plt.subplot(1,2,(2))\n",
    "plt.plot(history.history['loss'],linestyle='-.')\n",
    "plt.plot(history.history['val_loss'])\n",
    "plt.title('model loss')\n",
    "plt.ylabel('loss')\n",
    "plt.xlabel('epoch')\n",
    "plt.legend(['train', 'valid'], loc='upper right')"
   ]
  },
  {
   "cell_type": "code",
   "execution_count": 56,
   "id": "c47bd19e-8d98-4d30-89f7-3531dfa6fb63",
   "metadata": {},
   "outputs": [
    {
     "name": "stdout",
     "output_type": "stream",
     "text": [
      "200/200 [==============================] - 1s 6ms/step\n",
      "[[366   1   0   0   1   0   2   0   0   0   3   0   3  24   0   0]\n",
      " [  0 391   3   0   1   1   0   1   0   0   1   0   0   0   0   2]\n",
      " [  4   0 381   2   1   0   0   1   3   0   1   1   2   4   0   0]\n",
      " [  3   0   1 382   1   3   0   1   1   3   0   5   0   0   0   0]\n",
      " [  1   0   1   0 369   0   1   0   0  10  10   1   0   1   0   6]\n",
      " [  1   0   2   6   1 371   2   1   0   3   0   0   5   0   6   2]\n",
      " [  0   2   1   0   0   1 391   0   0   0   0   1   3   0   0   1]\n",
      " [  1   1   2   1   1   0   0 386   0   4   0   0   0   0   0   4]\n",
      " [  1   3   1   3   2   3   0   0 341   7   0  27   2   1   6   3]\n",
      " [  0   0   1   1   5   1   0   9   2 380   0   0   1   0   0   0]\n",
      " [  1   1   2   0   5   0   0   0   0   1 382   3   0   2   2   1]\n",
      " [  6   2   1   3   0   1   1   2  10   0   7 356   1   3   6   1]\n",
      " [  9   0   2   0   1   0   4   0   0   0   0   2 380   0   1   1]\n",
      " [ 24   2   5   4   1   0   0   1   0   0   6   2   0 355   0   0]\n",
      " [  0   0   1   0   0   2   0   0   2   1   0   3   5   0 381   5]\n",
      " [  0   8   3   1   0   3   1   0   5   1   2   0   1   1   2 372]]\n",
      "Acc_fc_orig_flat =  0.935\n"
     ]
    }
   ],
   "source": [
    "# Confusion Matrix erstellen\n",
    "pred=model.predict(X_test)\n",
    "print(confusion_matrix(np.argmax(Y_test,axis=1),np.argmax(pred,axis=1)))\n",
    "acc_fc_orig = np.sum(np.argmax(Y_test,axis=1)==np.argmax(pred,axis=1))/len(pred)\n",
    "print(\"Acc_fc_orig_flat = \" , acc_fc_orig)"
   ]
  }
 ],
 "metadata": {
  "kernelspec": {
   "display_name": "Python 3",
   "language": "python",
   "name": "python3"
  },
  "language_info": {
   "codemirror_mode": {
    "name": "ipython",
    "version": 3
   },
   "file_extension": ".py",
   "mimetype": "text/x-python",
   "name": "python",
   "nbconvert_exporter": "python",
   "pygments_lexer": "ipython3",
   "version": "3.8.10"
  }
 },
 "nbformat": 4,
 "nbformat_minor": 5
}
